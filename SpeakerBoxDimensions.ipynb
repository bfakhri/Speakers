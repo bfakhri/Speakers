{
 "cells": [
  {
   "cell_type": "code",
   "execution_count": null,
   "id": "1b683558",
   "metadata": {},
   "outputs": [],
   "source": [
    "import numpy as np\n",
    "import matplotlib.pyplot as plt"
   ]
  },
  {
   "cell_type": "code",
   "execution_count": null,
   "id": "45016907",
   "metadata": {},
   "outputs": [],
   "source": [
    "def compute_inner_volume(dims_outter):\n",
    "    '''\n",
    "    Given outter dimensions of a box in inches, returns volume in ft^3\n",
    "    '''\n",
    "    h_o = dims_outter[0, :]\n",
    "    w_o = dims_outter[1, :]\n",
    "    d_o = dims_outter[2, :]\n",
    "    h_i = h_o - 4*3.0/4.0\n",
    "    w_i = w_o - 2*3.0/4.0\n",
    "    d_i = d_o - 2*3.0/4.0\n",
    "    return (h_i * w_i * d_i)/(12**3)\n",
    "\n",
    "def roundXths(arr, resolution=8):\n",
    "    '''\n",
    "    Input is an array of measurements that we want to round to fractions.\n",
    "    Resolution - smallest fraction we want to consider (8 means 8ths).\n",
    "    Prints the measurements in whole number + fraction format.\n",
    "    '''\n",
    "    arr = np.round(arr * resolution)/resolution\n",
    "    wholes = arr.astype(int)\n",
    "    fracs = arr - wholes\n",
    "    eights = np.round(fracs * resolution).astype(int)\n",
    "    for w, e in zip(wholes, eights):\n",
    "        print('{0} {1}/{2}ths inches'.format(w, e, resolution))"
   ]
  },
  {
   "cell_type": "code",
   "execution_count": null,
   "id": "ebe86a81",
   "metadata": {},
   "outputs": [],
   "source": [
    "# Target aspect ratios\n",
    "proportions = np.array([14, 10, 10])\n",
    "proportions = proportions/proportions.max()\n",
    "proportions"
   ]
  },
  {
   "cell_type": "code",
   "execution_count": null,
   "id": "6e2ad843",
   "metadata": {},
   "outputs": [],
   "source": [
    "x = np.linspace(1, 20, 100)\n",
    "strat = np.stack([x, x, x], axis=0)\n",
    "candidates = strat * proportions[..., None]"
   ]
  },
  {
   "cell_type": "code",
   "execution_count": null,
   "id": "13f92676",
   "metadata": {},
   "outputs": [],
   "source": [
    "plt.plot(compute_inner_volume(candidates))"
   ]
  },
  {
   "cell_type": "code",
   "execution_count": null,
   "id": "6013afd4",
   "metadata": {},
   "outputs": [],
   "source": [
    "target_volume = 0.31\n",
    "candidate_volumes = compute_inner_volume(candidates)\n",
    "best_idx = np.argmin(np.abs(candidate_volumes - target_volume))\n",
    "candidates[:, best_idx]"
   ]
  },
  {
   "cell_type": "code",
   "execution_count": null,
   "id": "6f973261",
   "metadata": {},
   "outputs": [],
   "source": [
    "roundXths(candidates[:, best_idx], resolution=8)"
   ]
  },
  {
   "cell_type": "code",
   "execution_count": null,
   "id": "71db9f08",
   "metadata": {},
   "outputs": [],
   "source": []
  },
  {
   "cell_type": "code",
   "execution_count": null,
   "id": "546f9fba",
   "metadata": {},
   "outputs": [],
   "source": []
  },
  {
   "cell_type": "code",
   "execution_count": null,
   "id": "7d07ae9b",
   "metadata": {},
   "outputs": [],
   "source": []
  },
  {
   "cell_type": "code",
   "execution_count": null,
   "id": "d2b29d0f",
   "metadata": {},
   "outputs": [],
   "source": []
  },
  {
   "cell_type": "code",
   "execution_count": null,
   "id": "6006e278",
   "metadata": {},
   "outputs": [],
   "source": []
  }
 ],
 "metadata": {
  "kernelspec": {
   "display_name": "Python 3 (ipykernel)",
   "language": "python",
   "name": "python3"
  },
  "language_info": {
   "codemirror_mode": {
    "name": "ipython",
    "version": 3
   },
   "file_extension": ".py",
   "mimetype": "text/x-python",
   "name": "python",
   "nbconvert_exporter": "python",
   "pygments_lexer": "ipython3",
   "version": "3.10.8"
  }
 },
 "nbformat": 4,
 "nbformat_minor": 5
}
